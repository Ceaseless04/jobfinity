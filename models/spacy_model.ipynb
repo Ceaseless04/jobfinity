{
 "cells": [
  {
   "cell_type": "code",
   "execution_count": null,
   "id": "8cb6190d",
   "metadata": {},
   "outputs": [],
   "source": [
    "import spacy \n",
    "from spacy.pipeline import EntityRuler\n",
    "from spacy import displacy\n",
    "import pandas as pd\n",
    "import numpy as np \n"
   ]
  },
  {
   "cell_type": "code",
   "execution_count": 2,
   "id": "de5783ae",
   "metadata": {},
   "outputs": [
    {
     "data": {
      "text/html": [
       "<div>\n",
       "<style scoped>\n",
       "    .dataframe tbody tr th:only-of-type {\n",
       "        vertical-align: middle;\n",
       "    }\n",
       "\n",
       "    .dataframe tbody tr th {\n",
       "        vertical-align: top;\n",
       "    }\n",
       "\n",
       "    .dataframe thead th {\n",
       "        text-align: right;\n",
       "    }\n",
       "</style>\n",
       "<table border=\"1\" class=\"dataframe\">\n",
       "  <thead>\n",
       "    <tr style=\"text-align: right;\">\n",
       "      <th></th>\n",
       "      <th>ID</th>\n",
       "      <th>Resume_str</th>\n",
       "      <th>Resume_html</th>\n",
       "      <th>Category</th>\n",
       "    </tr>\n",
       "  </thead>\n",
       "  <tbody>\n",
       "    <tr>\n",
       "      <th>160</th>\n",
       "      <td>604</td>\n",
       "      <td>Core skills â¢ Project / Program Management â...</td>\n",
       "      <td>NaN</td>\n",
       "      <td>DevOps Engineer</td>\n",
       "    </tr>\n",
       "    <tr>\n",
       "      <th>312</th>\n",
       "      <td>853</td>\n",
       "      <td>Hobbies â¢ Playing Chess â¢ Solving Rubik's ...</td>\n",
       "      <td>NaN</td>\n",
       "      <td>Blockchain</td>\n",
       "    </tr>\n",
       "    <tr>\n",
       "      <th>215</th>\n",
       "      <td>714</td>\n",
       "      <td>Education Details \\r\\nJanuary 2016 BSc.  Mumba...</td>\n",
       "      <td>NaN</td>\n",
       "      <td>Database</td>\n",
       "    </tr>\n",
       "    <tr>\n",
       "      <th>95</th>\n",
       "      <td>443</td>\n",
       "      <td>Education Details \\r\\n\\r\\nSAP Technical Archit...</td>\n",
       "      <td>NaN</td>\n",
       "      <td>SAP Developer</td>\n",
       "    </tr>\n",
       "    <tr>\n",
       "      <th>27</th>\n",
       "      <td>347</td>\n",
       "      <td>Skills â¢ Language: Java â¢ Operating System...</td>\n",
       "      <td>NaN</td>\n",
       "      <td>Java Developer</td>\n",
       "    </tr>\n",
       "  </tbody>\n",
       "</table>\n",
       "</div>"
      ],
      "text/plain": [
       "      ID                                         Resume_str  Resume_html  \\\n",
       "160  604  Core skills â¢ Project / Program Management â...          NaN   \n",
       "312  853  Hobbies â¢ Playing Chess â¢ Solving Rubik's ...          NaN   \n",
       "215  714  Education Details \\r\\nJanuary 2016 BSc.  Mumba...          NaN   \n",
       "95   443  Education Details \\r\\n\\r\\nSAP Technical Archit...          NaN   \n",
       "27   347  Skills â¢ Language: Java â¢ Operating System...          NaN   \n",
       "\n",
       "            Category  \n",
       "160  DevOps Engineer  \n",
       "312       Blockchain  \n",
       "215         Database  \n",
       "95     SAP Developer  \n",
       "27    Java Developer  "
      ]
     },
     "execution_count": 2,
     "metadata": {},
     "output_type": "execute_result"
    }
   ],
   "source": [
    "df = pd.read_csv(\"../data/sample_resumes/Resume/resumeDataSet2_transformed_filtered.csv\")\n",
    "df = df.reindex(np.random.permutation(df.index))\n",
    "data = df.copy().iloc[\n",
    "    0:200,\n",
    "]\n",
    "data.head()\n"
   ]
  },
  {
   "cell_type": "code",
   "execution_count": null,
   "id": "582b1508",
   "metadata": {},
   "outputs": [
    {
     "name": "stdout",
     "output_type": "stream",
     "text": [
      "Angular SWE\n",
      "Terraform ORG\n",
      "DEVOPS ORG\n"
     ]
    }
   ],
   "source": [
    "# import en_core_web_lg\n",
    "\n",
    "\n",
    "# nlp = spacy.blank(\"en\")\n",
    "nlp = spacy.load(\"en_core_web_sm\")\n",
    "# nlp.add_pipe(\"ner\")\n",
    "\n",
    "ruler = nlp.add_pipe(\"entity_ruler\")\n",
    "\n",
    "# ner = nlp.add_pipe(\"ner\")\n",
    "\n",
    "#Skills for entities \n",
    "\n",
    "SweSkills = [\"Python\", \"Java\", \"JavaScript\", \"C++\", \"React\", \"Angular\", \"Node.js\", \"Git\", \"CI/CD\"]\n",
    "DsSkills = [\"Python\", \"R\", \"SQL\", \"Machine Learning\", \"Data Analysis\", \"Statistics\", \"TensorFlow\", \"PyTorch\"]\n",
    "DoSkills = [\"Linux\", \"Docker\", \"Kubernetes\", \"AWS\", \"Azure\", \"CI/CD\", \"Jenkins\", \"Terraform\", \"Ansible\"]\n",
    "\n",
    "patterns = []   \n",
    "\n",
    "for skill in SweSkills:\n",
    "    patterns.append({\"label\": \"SWE\", \"pattern\": skill})\n",
    "for skill in DsSkills:\n",
    "    patterns.append({\"label\": \"DATASCIENCE\", \"pattern\": skill})\n",
    "for skill in DoSkills:\n",
    "    patterns.append({\"label\": \"DEVOPS\", \"pattern\": skill})\n",
    "\n",
    "ruler.add_patterns(patterns)\n",
    "\n",
    "doc = nlp(\"Hello I love me some Angular some python, some other shit too like Terraform, DEVOPS, and idk some other shit\")\n",
    "\n",
    "resume_text = data['']\n",
    "\n",
    "for ent in doc.ents:\n",
    "    print(ent.text, ent.label_)"
   ]
  }
 ],
 "metadata": {
  "kernelspec": {
   "display_name": "Python 3",
   "language": "python",
   "name": "python3"
  },
  "language_info": {
   "codemirror_mode": {
    "name": "ipython",
    "version": 3
   },
   "file_extension": ".py",
   "mimetype": "text/x-python",
   "name": "python",
   "nbconvert_exporter": "python",
   "pygments_lexer": "ipython3",
   "version": "3.10.11"
  }
 },
 "nbformat": 4,
 "nbformat_minor": 5
}
